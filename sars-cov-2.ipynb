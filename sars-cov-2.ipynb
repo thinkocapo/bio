{
 "cells": [
  {
   "cell_type": "code",
   "execution_count": 158,
   "metadata": {
    "scrolled": true
   },
   "outputs": [
    {
     "name": "stdout",
     "output_type": "stream",
     "text": [
      "Requirement already satisfied: biopython in /home/wcap/thinkocapo/ml-scikit-tensorflow/ml_env/lib/python3.6/site-packages (1.76)\n",
      "Requirement already satisfied: numpy in /home/wcap/thinkocapo/ml-scikit-tensorflow/ml_env/lib/python3.6/site-packages (from biopython) (1.18.1)\n",
      "<class 'pandas.core.frame.DataFrame'>\n"
     ]
    },
    {
     "data": {
      "text/html": [
       "<div>\n",
       "<style scoped>\n",
       "    .dataframe tbody tr th:only-of-type {\n",
       "        vertical-align: middle;\n",
       "    }\n",
       "\n",
       "    .dataframe tbody tr th {\n",
       "        vertical-align: top;\n",
       "    }\n",
       "\n",
       "    .dataframe thead th {\n",
       "        text-align: right;\n",
       "    }\n",
       "</style>\n",
       "<table border=\"1\" class=\"dataframe\">\n",
       "  <thead>\n",
       "    <tr style=\"text-align: right;\">\n",
       "      <th></th>\n",
       "      <th>Species</th>\n",
       "      <th>Genus</th>\n",
       "      <th>Family</th>\n",
       "      <th>Length</th>\n",
       "      <th>Host</th>\n",
       "      <th>BioSample</th>\n",
       "      <th>Sequence</th>\n",
       "      <th>GeographicLocation</th>\n",
       "      <th>NucleotideStatus</th>\n",
       "      <th>GenBankTitle</th>\n",
       "      <th>IsolationSource</th>\n",
       "      <th>Country</th>\n",
       "    </tr>\n",
       "  </thead>\n",
       "  <tbody>\n",
       "    <tr>\n",
       "      <th>0</th>\n",
       "      <td>Severe acute respiratory syndrome-related coro...</td>\n",
       "      <td>Betacoronavirus</td>\n",
       "      <td>Entity[\"Species\", \"Family:Coronaviridae\"]</td>\n",
       "      <td>29611</td>\n",
       "      <td>Entity[\"Species\", \"Species:HomoSapiens\"]</td>\n",
       "      <td>NaN</td>\n",
       "      <td>AGATCTGTTCTCTAAACGAACTTTAAAATCTGTGTGGCTGTCACTC...</td>\n",
       "      <td>Entity[\"Country\", \"Spain\"]</td>\n",
       "      <td>NaN</td>\n",
       "      <td>Severe acute respiratory syndrome coronavirus ...</td>\n",
       "      <td>oronasopharynx</td>\n",
       "      <td>Entity[\"Country\", \"Spain\"]</td>\n",
       "    </tr>\n",
       "    <tr>\n",
       "      <th>1</th>\n",
       "      <td>Severe acute respiratory syndrome-related coro...</td>\n",
       "      <td>Betacoronavirus</td>\n",
       "      <td>Entity[\"Species\", \"Family:Coronaviridae\"]</td>\n",
       "      <td>29302</td>\n",
       "      <td>Entity[\"Species\", \"Species:HomoSapiens\"]</td>\n",
       "      <td>NaN</td>\n",
       "      <td>AGATCTGTTCTCTAAACGAACTTTAAAATCTGTGTGGCTGTCACTC...</td>\n",
       "      <td>Entity[\"Country\", \"Spain\"]</td>\n",
       "      <td>NaN</td>\n",
       "      <td>Severe acute respiratory syndrome coronavirus ...</td>\n",
       "      <td>lung</td>\n",
       "      <td>Entity[\"Country\", \"Spain\"]</td>\n",
       "    </tr>\n",
       "    <tr>\n",
       "      <th>2</th>\n",
       "      <td>Severe acute respiratory syndrome-related coro...</td>\n",
       "      <td>Betacoronavirus</td>\n",
       "      <td>Entity[\"Species\", \"Family:Coronaviridae\"]</td>\n",
       "      <td>29611</td>\n",
       "      <td>Entity[\"Species\", \"Species:HomoSapiens\"]</td>\n",
       "      <td>NaN</td>\n",
       "      <td>AGATCTGTTCTCTAAACGAACTTTAAAATCTGTGTGGCTGTCACTC...</td>\n",
       "      <td>Entity[\"Country\", \"Spain\"]</td>\n",
       "      <td>NaN</td>\n",
       "      <td>Severe acute respiratory syndrome coronavirus ...</td>\n",
       "      <td>oronasopharynx</td>\n",
       "      <td>Entity[\"Country\", \"Spain\"]</td>\n",
       "    </tr>\n",
       "    <tr>\n",
       "      <th>3</th>\n",
       "      <td>Severe acute respiratory syndrome-related coro...</td>\n",
       "      <td>Betacoronavirus</td>\n",
       "      <td>Entity[\"Species\", \"Family:Coronaviridae\"]</td>\n",
       "      <td>29890</td>\n",
       "      <td>Entity[\"Species\", \"Species:HomoSapiens\"]</td>\n",
       "      <td>NaN</td>\n",
       "      <td>ATTAAAGGTTTATACCTTCCCAGGTATAAACCAACCAACTTTCGAT...</td>\n",
       "      <td>Entity[\"Country\", \"Vietnam\"]</td>\n",
       "      <td>complete</td>\n",
       "      <td>Severe acute respiratory syndrome coronavirus ...</td>\n",
       "      <td>NaN</td>\n",
       "      <td>Entity[\"Country\", \"Vietnam\"]</td>\n",
       "    </tr>\n",
       "    <tr>\n",
       "      <th>4</th>\n",
       "      <td>Severe acute respiratory syndrome-related coro...</td>\n",
       "      <td>Betacoronavirus</td>\n",
       "      <td>Entity[\"Species\", \"Family:Coronaviridae\"]</td>\n",
       "      <td>29891</td>\n",
       "      <td>Entity[\"Species\", \"Species:HomoSapiens\"]</td>\n",
       "      <td>NaN</td>\n",
       "      <td>ATTAAAGGTTTATACCTTCCCAGGTAACAAACCAACCAACTTTCGA...</td>\n",
       "      <td>Entity[\"Country\", \"Vietnam\"]</td>\n",
       "      <td>complete</td>\n",
       "      <td>Severe acute respiratory syndrome coronavirus ...</td>\n",
       "      <td>NaN</td>\n",
       "      <td>Entity[\"Country\", \"Vietnam\"]</td>\n",
       "    </tr>\n",
       "    <tr>\n",
       "      <th>...</th>\n",
       "      <td>...</td>\n",
       "      <td>...</td>\n",
       "      <td>...</td>\n",
       "      <td>...</td>\n",
       "      <td>...</td>\n",
       "      <td>...</td>\n",
       "      <td>...</td>\n",
       "      <td>...</td>\n",
       "      <td>...</td>\n",
       "      <td>...</td>\n",
       "      <td>...</td>\n",
       "      <td>...</td>\n",
       "    </tr>\n",
       "    <tr>\n",
       "      <th>165</th>\n",
       "      <td>Severe acute respiratory syndrome-related coro...</td>\n",
       "      <td>Betacoronavirus</td>\n",
       "      <td>Entity[\"Species\", \"Family:Coronaviridae\"]</td>\n",
       "      <td>29838</td>\n",
       "      <td>Entity[\"Species\", \"Species:HomoSapiens\"]</td>\n",
       "      <td>NaN</td>\n",
       "      <td>CAACCAACTTTCGATCTCTTGTAGATCTGTTCTCTAAACGAACTTT...</td>\n",
       "      <td>Entity[\"Country\", \"China\"]</td>\n",
       "      <td>complete</td>\n",
       "      <td>Severe acute respiratory syndrome coronavirus ...</td>\n",
       "      <td>oronasopharynx</td>\n",
       "      <td>Entity[\"Country\", \"China\"]</td>\n",
       "    </tr>\n",
       "    <tr>\n",
       "      <th>166</th>\n",
       "      <td>Severe acute respiratory syndrome-related coro...</td>\n",
       "      <td>Betacoronavirus</td>\n",
       "      <td>Entity[\"Species\", \"Family:Coronaviridae\"]</td>\n",
       "      <td>290</td>\n",
       "      <td>Entity[\"Species\", \"Species:HomoSapiens\"]</td>\n",
       "      <td>NaN</td>\n",
       "      <td>TAAACACCTCATACCACTTATGTACAAAGGACTTCCTTGGAATGTA...</td>\n",
       "      <td>Entity[\"Country\", \"Thailand\"]</td>\n",
       "      <td>NaN</td>\n",
       "      <td>Severe acute respiratory syndrome coronavirus ...</td>\n",
       "      <td>lung, oronasopharynx</td>\n",
       "      <td>Entity[\"Country\", \"Thailand\"]</td>\n",
       "    </tr>\n",
       "    <tr>\n",
       "      <th>167</th>\n",
       "      <td>Severe acute respiratory syndrome-related coro...</td>\n",
       "      <td>Betacoronavirus</td>\n",
       "      <td>Entity[\"Species\", \"Family:Coronaviridae\"]</td>\n",
       "      <td>290</td>\n",
       "      <td>Entity[\"Species\", \"Species:HomoSapiens\"]</td>\n",
       "      <td>NaN</td>\n",
       "      <td>TAAACACCTCATACCACTTATGTACAAAGGACTTCCTTGGAATGTA...</td>\n",
       "      <td>Entity[\"Country\", \"Thailand\"]</td>\n",
       "      <td>NaN</td>\n",
       "      <td>Severe acute respiratory syndrome coronavirus ...</td>\n",
       "      <td>lung, oronasopharynx</td>\n",
       "      <td>Entity[\"Country\", \"Thailand\"]</td>\n",
       "    </tr>\n",
       "    <tr>\n",
       "      <th>168</th>\n",
       "      <td>Severe acute respiratory syndrome-related coro...</td>\n",
       "      <td>Betacoronavirus</td>\n",
       "      <td>Entity[\"Species\", \"Family:Coronaviridae\"]</td>\n",
       "      <td>29903</td>\n",
       "      <td>Entity[\"Species\", \"Species:HomoSapiens\"]</td>\n",
       "      <td>NaN</td>\n",
       "      <td>ATTAAAGGTTTATACCTTCCCAGGTAACAAACCAACCAACTTTCGA...</td>\n",
       "      <td>Entity[\"Country\", \"China\"]</td>\n",
       "      <td>refseq, complete</td>\n",
       "      <td>Severe acute respiratory syndrome coronavirus ...</td>\n",
       "      <td>NaN</td>\n",
       "      <td>Entity[\"Country\", \"China\"]</td>\n",
       "    </tr>\n",
       "    <tr>\n",
       "      <th>169</th>\n",
       "      <td>Severe acute respiratory syndrome-related coro...</td>\n",
       "      <td>Betacoronavirus</td>\n",
       "      <td>Entity[\"Species\", \"Family:Coronaviridae\"]</td>\n",
       "      <td>29903</td>\n",
       "      <td>Entity[\"Species\", \"Species:HomoSapiens\"]</td>\n",
       "      <td>NaN</td>\n",
       "      <td>ATTAAAGGTTTATACCTTCCCAGGTAACAAACCAACCAACTTTCGA...</td>\n",
       "      <td>Entity[\"Country\", \"China\"]</td>\n",
       "      <td>complete</td>\n",
       "      <td>Severe acute respiratory syndrome coronavirus ...</td>\n",
       "      <td>NaN</td>\n",
       "      <td>Entity[\"Country\", \"China\"]</td>\n",
       "    </tr>\n",
       "  </tbody>\n",
       "</table>\n",
       "<p>170 rows × 12 columns</p>\n",
       "</div>"
      ],
      "text/plain": [
       "                                               Species            Genus  \\\n",
       "0    Severe acute respiratory syndrome-related coro...  Betacoronavirus   \n",
       "1    Severe acute respiratory syndrome-related coro...  Betacoronavirus   \n",
       "2    Severe acute respiratory syndrome-related coro...  Betacoronavirus   \n",
       "3    Severe acute respiratory syndrome-related coro...  Betacoronavirus   \n",
       "4    Severe acute respiratory syndrome-related coro...  Betacoronavirus   \n",
       "..                                                 ...              ...   \n",
       "165  Severe acute respiratory syndrome-related coro...  Betacoronavirus   \n",
       "166  Severe acute respiratory syndrome-related coro...  Betacoronavirus   \n",
       "167  Severe acute respiratory syndrome-related coro...  Betacoronavirus   \n",
       "168  Severe acute respiratory syndrome-related coro...  Betacoronavirus   \n",
       "169  Severe acute respiratory syndrome-related coro...  Betacoronavirus   \n",
       "\n",
       "                                        Family  Length  \\\n",
       "0    Entity[\"Species\", \"Family:Coronaviridae\"]   29611   \n",
       "1    Entity[\"Species\", \"Family:Coronaviridae\"]   29302   \n",
       "2    Entity[\"Species\", \"Family:Coronaviridae\"]   29611   \n",
       "3    Entity[\"Species\", \"Family:Coronaviridae\"]   29890   \n",
       "4    Entity[\"Species\", \"Family:Coronaviridae\"]   29891   \n",
       "..                                         ...     ...   \n",
       "165  Entity[\"Species\", \"Family:Coronaviridae\"]   29838   \n",
       "166  Entity[\"Species\", \"Family:Coronaviridae\"]     290   \n",
       "167  Entity[\"Species\", \"Family:Coronaviridae\"]     290   \n",
       "168  Entity[\"Species\", \"Family:Coronaviridae\"]   29903   \n",
       "169  Entity[\"Species\", \"Family:Coronaviridae\"]   29903   \n",
       "\n",
       "                                         Host BioSample  \\\n",
       "0    Entity[\"Species\", \"Species:HomoSapiens\"]       NaN   \n",
       "1    Entity[\"Species\", \"Species:HomoSapiens\"]       NaN   \n",
       "2    Entity[\"Species\", \"Species:HomoSapiens\"]       NaN   \n",
       "3    Entity[\"Species\", \"Species:HomoSapiens\"]       NaN   \n",
       "4    Entity[\"Species\", \"Species:HomoSapiens\"]       NaN   \n",
       "..                                        ...       ...   \n",
       "165  Entity[\"Species\", \"Species:HomoSapiens\"]       NaN   \n",
       "166  Entity[\"Species\", \"Species:HomoSapiens\"]       NaN   \n",
       "167  Entity[\"Species\", \"Species:HomoSapiens\"]       NaN   \n",
       "168  Entity[\"Species\", \"Species:HomoSapiens\"]       NaN   \n",
       "169  Entity[\"Species\", \"Species:HomoSapiens\"]       NaN   \n",
       "\n",
       "                                              Sequence  \\\n",
       "0    AGATCTGTTCTCTAAACGAACTTTAAAATCTGTGTGGCTGTCACTC...   \n",
       "1    AGATCTGTTCTCTAAACGAACTTTAAAATCTGTGTGGCTGTCACTC...   \n",
       "2    AGATCTGTTCTCTAAACGAACTTTAAAATCTGTGTGGCTGTCACTC...   \n",
       "3    ATTAAAGGTTTATACCTTCCCAGGTATAAACCAACCAACTTTCGAT...   \n",
       "4    ATTAAAGGTTTATACCTTCCCAGGTAACAAACCAACCAACTTTCGA...   \n",
       "..                                                 ...   \n",
       "165  CAACCAACTTTCGATCTCTTGTAGATCTGTTCTCTAAACGAACTTT...   \n",
       "166  TAAACACCTCATACCACTTATGTACAAAGGACTTCCTTGGAATGTA...   \n",
       "167  TAAACACCTCATACCACTTATGTACAAAGGACTTCCTTGGAATGTA...   \n",
       "168  ATTAAAGGTTTATACCTTCCCAGGTAACAAACCAACCAACTTTCGA...   \n",
       "169  ATTAAAGGTTTATACCTTCCCAGGTAACAAACCAACCAACTTTCGA...   \n",
       "\n",
       "                GeographicLocation  NucleotideStatus  \\\n",
       "0       Entity[\"Country\", \"Spain\"]               NaN   \n",
       "1       Entity[\"Country\", \"Spain\"]               NaN   \n",
       "2       Entity[\"Country\", \"Spain\"]               NaN   \n",
       "3     Entity[\"Country\", \"Vietnam\"]          complete   \n",
       "4     Entity[\"Country\", \"Vietnam\"]          complete   \n",
       "..                             ...               ...   \n",
       "165     Entity[\"Country\", \"China\"]          complete   \n",
       "166  Entity[\"Country\", \"Thailand\"]               NaN   \n",
       "167  Entity[\"Country\", \"Thailand\"]               NaN   \n",
       "168     Entity[\"Country\", \"China\"]  refseq, complete   \n",
       "169     Entity[\"Country\", \"China\"]          complete   \n",
       "\n",
       "                                          GenBankTitle       IsolationSource  \\\n",
       "0    Severe acute respiratory syndrome coronavirus ...        oronasopharynx   \n",
       "1    Severe acute respiratory syndrome coronavirus ...                  lung   \n",
       "2    Severe acute respiratory syndrome coronavirus ...        oronasopharynx   \n",
       "3    Severe acute respiratory syndrome coronavirus ...                   NaN   \n",
       "4    Severe acute respiratory syndrome coronavirus ...                   NaN   \n",
       "..                                                 ...                   ...   \n",
       "165  Severe acute respiratory syndrome coronavirus ...        oronasopharynx   \n",
       "166  Severe acute respiratory syndrome coronavirus ...  lung, oronasopharynx   \n",
       "167  Severe acute respiratory syndrome coronavirus ...  lung, oronasopharynx   \n",
       "168  Severe acute respiratory syndrome coronavirus ...                   NaN   \n",
       "169  Severe acute respiratory syndrome coronavirus ...                   NaN   \n",
       "\n",
       "                           Country  \n",
       "0       Entity[\"Country\", \"Spain\"]  \n",
       "1       Entity[\"Country\", \"Spain\"]  \n",
       "2       Entity[\"Country\", \"Spain\"]  \n",
       "3     Entity[\"Country\", \"Vietnam\"]  \n",
       "4     Entity[\"Country\", \"Vietnam\"]  \n",
       "..                             ...  \n",
       "165     Entity[\"Country\", \"China\"]  \n",
       "166  Entity[\"Country\", \"Thailand\"]  \n",
       "167  Entity[\"Country\", \"Thailand\"]  \n",
       "168     Entity[\"Country\", \"China\"]  \n",
       "169     Entity[\"Country\", \"China\"]  \n",
       "\n",
       "[170 rows x 12 columns]"
      ]
     },
     "execution_count": 158,
     "metadata": {},
     "output_type": "execute_result"
    }
   ],
   "source": [
    "import sys\n",
    "!{sys.executable} -m pip install biopython\n",
    "\n",
    "import pandas as pd\n",
    "all_data = pd.read_csv('sars-cov-2.csv')\n",
    "data = data[[\"Species\",\"Genus\",\"Family\",\"Length\",\"Host\",\"BioSample\",\"Sequence\",\"GeographicLocation\",\"NucleotideStatus\",\"GenBankTitle\", \"IsolationSource\", \"Country\"]]\n",
    "print(type(data))\n",
    "data"
   ]
  },
  {
   "cell_type": "code",
   "execution_count": 159,
   "metadata": {
    "scrolled": true
   },
   "outputs": [
    {
     "name": "stdout",
     "output_type": "stream",
     "text": [
      "count                                                   170\n",
      "unique                                                  115\n",
      "top       ATGTCTGATAATGGACCCCAAAATCAGCGAAATGCACCCCGCATTA...\n",
      "freq                                                      8\n",
      "Name: Sequence, dtype: object\n",
      "(66,)\n"
     ]
    }
   ],
   "source": [
    "# number of sequences (records too)\n",
    "print(data[\"Sequence\"].describe())\n",
    "\n",
    "# number of unique length'd sequences\n",
    "print(data[\"Length\"].unique().shape)"
   ]
  },
  {
   "cell_type": "code",
   "execution_count": 160,
   "metadata": {},
   "outputs": [
    {
     "name": "stdout",
     "output_type": "stream",
     "text": [
      "222 False\n",
      "847 False\n",
      "1420 False\n",
      "0 False\n",
      "0 False\n",
      "0 False\n",
      "0 False\n",
      "0 False\n",
      "0 False\n",
      "0 False\n",
      "0 False\n",
      "0 False\n",
      "0 False\n",
      "0 False\n",
      "0 False\n",
      "0 False\n",
      "0 False\n",
      "0 False\n",
      "0 False\n",
      "0 False\n",
      "0 False\n",
      "0 False\n",
      "0 False\n",
      "0 False\n",
      "0 False\n",
      "0 False\n",
      "0 False\n",
      "0 False\n",
      "0 False\n",
      "0 False\n",
      "0 False\n",
      "32 False\n",
      "0 False\n",
      "0 False\n",
      "0 False\n",
      "0 False\n",
      "0 False\n",
      "0 False\n",
      "0 False\n",
      "0 False\n",
      "0 False\n",
      "0 False\n",
      "0 False\n",
      "0 False\n",
      "0 False\n",
      "0 False\n",
      "0 False\n",
      "0 False\n",
      "0 False\n",
      "0 False\n",
      "0 False\n",
      "0 False\n",
      "0 False\n",
      "0 False\n",
      "0 False\n",
      "0 False\n",
      "0 False\n",
      "0 False\n",
      "0 False\n",
      "0 False\n",
      "0 False\n",
      "1 False\n",
      "0 False\n",
      "0 False\n",
      "0 False\n",
      "0 False\n",
      "0 False\n",
      "0 False\n",
      "0 False\n",
      "0 False\n",
      "0 False\n",
      "0 False\n",
      "0 False\n",
      "0 False\n",
      "0 False\n",
      "0 False\n",
      "0 False\n",
      "0 False\n",
      "0 False\n",
      "0 False\n",
      "0 False\n",
      "0 False\n",
      "0 False\n",
      "0 False\n",
      "0 False\n",
      "0 False\n",
      "0 False\n",
      "0 False\n",
      "0 False\n",
      "0 False\n",
      "0 False\n",
      "0 False\n",
      "0 False\n",
      "0 False\n",
      "0 False\n",
      "0 False\n",
      "0 False\n",
      "0 False\n",
      "0 False\n",
      "0 False\n",
      "0 False\n",
      "0 False\n",
      "0 False\n",
      "0 False\n",
      "0 False\n",
      "0 False\n",
      "0 False\n",
      "0 False\n",
      "0 False\n",
      "0 False\n",
      "0 False\n",
      "0 False\n",
      "0 False\n",
      "0 False\n",
      "0 False\n",
      "0 False\n",
      "0 False\n",
      "0 False\n",
      "0 False\n",
      "0 False\n",
      "0 False\n",
      "0 False\n",
      "0 False\n",
      "0 False\n",
      "0 False\n",
      "0 False\n",
      "0 False\n",
      "163 False\n",
      "0 False\n",
      "0 False\n",
      "0 False\n",
      "0 False\n",
      "0 False\n",
      "0 False\n",
      "10125 False\n",
      "0 False\n",
      "0 False\n",
      "0 False\n",
      "0 False\n",
      "0 False\n",
      "0 False\n",
      "0 False\n",
      "0 False\n",
      "0 False\n",
      "0 False\n",
      "0 False\n",
      "0 False\n",
      "0 False\n",
      "0 False\n",
      "0 False\n",
      "0 False\n",
      "0 False\n",
      "0 False\n",
      "0 False\n",
      "0 False\n",
      "0 False\n",
      "0 False\n",
      "0 False\n",
      "0 False\n",
      "0 False\n",
      "0 False\n",
      "0 False\n",
      "0 False\n",
      "0 False\n",
      "0 False\n",
      "0 False\n",
      "0 False\n",
      "0 False\n",
      "0 False\n",
      "0 False\n"
     ]
    }
   ],
   "source": [
    "#### DATA QUALITY CHECK ####\n",
    "# TODO PANDAS for stripping out samples that have N (meaning they're missing A | C |T |G )\n",
    "\n",
    "# For each sequence, \n",
    "# show count of how many times a nucleotide is unavailable\n",
    "# show if it's a multiple of 3\n",
    "\n",
    "def multiple_of_3(coding_dna):\n",
    "    return True == (len(coding_dna) % 3 == 0)\n",
    "for coding_dna_strand in data[\"Sequence\"]:\n",
    "    print(coding_dna_strand.count(\"N\"), multiple_of_3(coding_dna))"
   ]
  },
  {
   "cell_type": "code",
   "execution_count": 161,
   "metadata": {},
   "outputs": [
    {
     "data": {
      "text/plain": [
       "True"
      ]
     },
     "execution_count": 161,
     "metadata": {},
     "output_type": "execute_result"
    }
   ],
   "source": [
    "# compute the length of a Sequence. iloc means indexed location\n",
    "# Confirm that Length refers to length of the Sequence\n",
    "len(data.iloc[4]['Sequence']) == data.iloc[4]['Length']"
   ]
  },
  {
   "cell_type": "code",
   "execution_count": 162,
   "metadata": {
    "scrolled": true
   },
   "outputs": [
    {
     "name": "stdout",
     "output_type": "stream",
     "text": [
      "29890\n"
     ]
    }
   ],
   "source": [
    "##### PICK 1 SEQUENCE #####\n",
    "# sars-cov-19 sample sequence\n",
    "sample_seq = data.iloc[4]['Sequence']\n",
    "\n",
    "print(len(sample))\n",
    "\n"
   ]
  },
  {
   "cell_type": "code",
   "execution_count": 163,
   "metadata": {},
   "outputs": [
    {
     "data": {
      "text/plain": [
       "0"
      ]
     },
     "execution_count": 163,
     "metadata": {},
     "output_type": "execute_result"
    }
   ],
   "source": [
    "# check there are no missing nucleotides\n",
    "sample_seq.count(\"N\")"
   ]
  },
  {
   "cell_type": "code",
   "execution_count": 164,
   "metadata": {},
   "outputs": [],
   "source": [
    "############ BIOPYTHON #############\n",
    "from Bio.Seq import Seq\n",
    "from Bio.Alphabet import IUPAC\n",
    "seq = Seq(sample_seq, IUPAC.unambiguous_dna)\n",
    "seq\n",
    "\n",
    "# seq is the coding strand\n",
    "coding_dna = seq"
   ]
  },
  {
   "cell_type": "code",
   "execution_count": 165,
   "metadata": {},
   "outputs": [
    {
     "data": {
      "text/plain": [
       "True"
      ]
     },
     "execution_count": 165,
     "metadata": {},
     "output_type": "execute_result"
    }
   ],
   "source": [
    "# Reverse Complement (template strand)\n",
    "template_dna = coding_dna.reverse_complement()\n",
    "len(template_dna) == len(coding_dna)"
   ]
  },
  {
   "cell_type": "code",
   "execution_count": 166,
   "metadata": {},
   "outputs": [
    {
     "data": {
      "text/plain": [
       "Seq('AUUAAAGGUUUAUACCUUCCCAGGUAACAAACCAACCAACUUUCGAUCUCUUGU...AAA', IUPACUnambiguousRNA())"
      ]
     },
     "execution_count": 166,
     "metadata": {},
     "output_type": "execute_result"
    }
   ],
   "source": [
    "# Transcribe\n",
    "messenger_rna = coding_dna.transcribe()\n",
    "messenger_rna"
   ]
  },
  {
   "cell_type": "code",
   "execution_count": 167,
   "metadata": {},
   "outputs": [
    {
     "data": {
      "text/plain": [
       "True"
      ]
     },
     "execution_count": 167,
     "metadata": {},
     "output_type": "execute_result"
    }
   ],
   "source": [
    "# Transcribe Test\n",
    "coding_dna_test = messenger_rna.back_transcribe()\n",
    "coding_dna_test.transcribe() == messenger_rna"
   ]
  },
  {
   "cell_type": "code",
   "execution_count": 168,
   "metadata": {},
   "outputs": [
    {
     "data": {
      "text/plain": [
       "Seq('AUUAAAGGUUUAUACCUUCCCAGGUAACAAACCAACCAACUUUCGAUCUCUUGU...AAA', IUPACUnambiguousRNA())"
      ]
     },
     "execution_count": 168,
     "metadata": {},
     "output_type": "execute_result"
    }
   ],
   "source": [
    "# Transcribe - TRUE \n",
    "# If you do want to do a true biological transcription starting with the template strand, then this becomes a two-step process:\n",
    "template_dna.reverse_complement().transcribe()"
   ]
  },
  {
   "cell_type": "code",
   "execution_count": 169,
   "metadata": {},
   "outputs": [
    {
     "data": {
      "text/plain": [
       "True"
      ]
     },
     "execution_count": 169,
     "metadata": {},
     "output_type": "execute_result"
    }
   ],
   "source": [
    "# CHECK\n",
    "template_dna.reverse_complement().transcribe() == coding_dna.transcribe()\n",
    "# output of either of these is the mRNA"
   ]
  },
  {
   "cell_type": "code",
   "execution_count": 170,
   "metadata": {},
   "outputs": [
    {
     "name": "stdout",
     "output_type": "stream",
     "text": [
      "0\n",
      "False\n",
      "AAA\n"
     ]
    }
   ],
   "source": [
    "# TODO - figure out what to do about the N's. maybe get from different source\n",
    "# TODO - search the 170 rows for a sequence that is NOT missing any nucleotides (i.e. has an N)\n",
    "# coding_dna = coding_dna + 'T'\n",
    "print(coding_dna.count(\"N\"))\n",
    "print(multiple_of_3(coding_dna))\n",
    "print(coding_dna[-3:])\n",
    "\n"
   ]
  },
  {
   "cell_type": "code",
   "execution_count": 171,
   "metadata": {},
   "outputs": [
    {
     "name": "stdout",
     "output_type": "stream",
     "text": [
      "AAC\n"
     ]
    }
   ],
   "source": [
    "# this makes it become a stop codon at the end? HasStopCodon(IUPACProtein(), '*'\n",
    "coding_dna = coding_dna + \"C\"\n",
    "print(coding_dna[-3:])"
   ]
  },
  {
   "cell_type": "code",
   "execution_count": 172,
   "metadata": {},
   "outputs": [
    {
     "data": {
      "text/plain": [
       "Seq('IKGLYLPR*QTNQLSISCRSVL*TNFKICVAVTRLHA*CTHAV*LITNYCR*QD...KKN', HasStopCodon(IUPACProtein(), '*'))"
      ]
     },
     "execution_count": 172,
     "metadata": {},
     "output_type": "execute_result"
    }
   ],
   "source": [
    "coding_dna.translate()"
   ]
  }
 ],
 "metadata": {
  "kernelspec": {
   "display_name": "Python 3",
   "language": "python",
   "name": "python3"
  },
  "language_info": {
   "codemirror_mode": {
    "name": "ipython",
    "version": 3
   },
   "file_extension": ".py",
   "mimetype": "text/x-python",
   "name": "python",
   "nbconvert_exporter": "python",
   "pygments_lexer": "ipython3",
   "version": "3.6.9"
  }
 },
 "nbformat": 4,
 "nbformat_minor": 2
}
